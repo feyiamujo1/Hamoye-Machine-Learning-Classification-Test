{
 "cells": [
  {
   "cell_type": "code",
   "execution_count": 1,
   "id": "1d2071f0",
   "metadata": {},
   "outputs": [
    {
     "name": "stderr",
     "output_type": "stream",
     "text": [
      "C:\\Users\\Feyi\\Anaconda3\\envs\\tf\\lib\\site-packages\\numpy\\_distributor_init.py:32: UserWarning: loaded more than 1 DLL from .libs:\n",
      "C:\\Users\\Feyi\\Anaconda3\\envs\\tf\\lib\\site-packages\\numpy\\.libs\\libopenblas.PYQHXLVVQ7VESDPUVUADXEVJOBGHJPAY.gfortran-win_amd64.dll\n",
      "C:\\Users\\Feyi\\Anaconda3\\envs\\tf\\lib\\site-packages\\numpy\\.libs\\libopenblas.WCDJNK7YVMPZQ2ME2ZZHJJRJ3JIKNDB7.gfortran-win_amd64.dll\n",
      "  stacklevel=1)\n"
     ]
    }
   ],
   "source": [
    "import numpy as np\n",
    "import matplotlib.pyplot as plt\n",
    "import pandas as pd"
   ]
  },
  {
   "cell_type": "code",
   "execution_count": 2,
   "id": "6624c919",
   "metadata": {},
   "outputs": [],
   "source": [
    "#Importing the dataset here\n",
    "df=pd.read_csv('Data_for_UCI_named.csv')"
   ]
  },
  {
   "cell_type": "code",
   "execution_count": 3,
   "id": "f0203d49",
   "metadata": {},
   "outputs": [
    {
     "data": {
      "text/plain": [
       "tau1     0\n",
       "tau2     0\n",
       "tau3     0\n",
       "tau4     0\n",
       "p1       0\n",
       "p2       0\n",
       "p3       0\n",
       "p4       0\n",
       "g1       0\n",
       "g2       0\n",
       "g3       0\n",
       "g4       0\n",
       "stab     0\n",
       "stabf    0\n",
       "dtype: int64"
      ]
     },
     "execution_count": 3,
     "metadata": {},
     "output_type": "execute_result"
    }
   ],
   "source": [
    "#Checked for the Number of missing values in each column\n",
    "df.isna().sum()"
   ]
  },
  {
   "cell_type": "code",
   "execution_count": 4,
   "id": "4d451f06",
   "metadata": {
    "scrolled": true
   },
   "outputs": [
    {
     "data": {
      "text/plain": [
       "unstable    6380\n",
       "stable      3620\n",
       "Name: stabf, dtype: int64"
      ]
     },
     "execution_count": 4,
     "metadata": {},
     "output_type": "execute_result"
    }
   ],
   "source": [
    "#Checked the distribution of the target variables\n",
    "df[ 'stabf' ].value_counts()"
   ]
  },
  {
   "cell_type": "code",
   "execution_count": 5,
   "id": "f5171aea",
   "metadata": {},
   "outputs": [
    {
     "data": {
      "text/html": [
       "<div>\n",
       "<style scoped>\n",
       "    .dataframe tbody tr th:only-of-type {\n",
       "        vertical-align: middle;\n",
       "    }\n",
       "\n",
       "    .dataframe tbody tr th {\n",
       "        vertical-align: top;\n",
       "    }\n",
       "\n",
       "    .dataframe thead th {\n",
       "        text-align: right;\n",
       "    }\n",
       "</style>\n",
       "<table border=\"1\" class=\"dataframe\">\n",
       "  <thead>\n",
       "    <tr style=\"text-align: right;\">\n",
       "      <th></th>\n",
       "      <th>tau1</th>\n",
       "      <th>tau2</th>\n",
       "      <th>tau3</th>\n",
       "      <th>tau4</th>\n",
       "      <th>p1</th>\n",
       "      <th>p2</th>\n",
       "      <th>p3</th>\n",
       "      <th>p4</th>\n",
       "      <th>g1</th>\n",
       "      <th>g2</th>\n",
       "      <th>g3</th>\n",
       "      <th>g4</th>\n",
       "      <th>stab</th>\n",
       "      <th>stabf</th>\n",
       "    </tr>\n",
       "  </thead>\n",
       "  <tbody>\n",
       "    <tr>\n",
       "      <th>0</th>\n",
       "      <td>2.959060</td>\n",
       "      <td>3.079885</td>\n",
       "      <td>8.381025</td>\n",
       "      <td>9.780754</td>\n",
       "      <td>3.763085</td>\n",
       "      <td>-0.782604</td>\n",
       "      <td>-1.257395</td>\n",
       "      <td>-1.723086</td>\n",
       "      <td>0.650456</td>\n",
       "      <td>0.859578</td>\n",
       "      <td>0.887445</td>\n",
       "      <td>0.958034</td>\n",
       "      <td>0.055347</td>\n",
       "      <td>unstable</td>\n",
       "    </tr>\n",
       "    <tr>\n",
       "      <th>1</th>\n",
       "      <td>9.304097</td>\n",
       "      <td>4.902524</td>\n",
       "      <td>3.047541</td>\n",
       "      <td>1.369357</td>\n",
       "      <td>5.067812</td>\n",
       "      <td>-1.940058</td>\n",
       "      <td>-1.872742</td>\n",
       "      <td>-1.255012</td>\n",
       "      <td>0.413441</td>\n",
       "      <td>0.862414</td>\n",
       "      <td>0.562139</td>\n",
       "      <td>0.781760</td>\n",
       "      <td>-0.005957</td>\n",
       "      <td>stable</td>\n",
       "    </tr>\n",
       "    <tr>\n",
       "      <th>2</th>\n",
       "      <td>8.971707</td>\n",
       "      <td>8.848428</td>\n",
       "      <td>3.046479</td>\n",
       "      <td>1.214518</td>\n",
       "      <td>3.405158</td>\n",
       "      <td>-1.207456</td>\n",
       "      <td>-1.277210</td>\n",
       "      <td>-0.920492</td>\n",
       "      <td>0.163041</td>\n",
       "      <td>0.766689</td>\n",
       "      <td>0.839444</td>\n",
       "      <td>0.109853</td>\n",
       "      <td>0.003471</td>\n",
       "      <td>unstable</td>\n",
       "    </tr>\n",
       "    <tr>\n",
       "      <th>3</th>\n",
       "      <td>0.716415</td>\n",
       "      <td>7.669600</td>\n",
       "      <td>4.486641</td>\n",
       "      <td>2.340563</td>\n",
       "      <td>3.963791</td>\n",
       "      <td>-1.027473</td>\n",
       "      <td>-1.938944</td>\n",
       "      <td>-0.997374</td>\n",
       "      <td>0.446209</td>\n",
       "      <td>0.976744</td>\n",
       "      <td>0.929381</td>\n",
       "      <td>0.362718</td>\n",
       "      <td>0.028871</td>\n",
       "      <td>unstable</td>\n",
       "    </tr>\n",
       "    <tr>\n",
       "      <th>4</th>\n",
       "      <td>3.134112</td>\n",
       "      <td>7.608772</td>\n",
       "      <td>4.943759</td>\n",
       "      <td>9.857573</td>\n",
       "      <td>3.525811</td>\n",
       "      <td>-1.125531</td>\n",
       "      <td>-1.845975</td>\n",
       "      <td>-0.554305</td>\n",
       "      <td>0.797110</td>\n",
       "      <td>0.455450</td>\n",
       "      <td>0.656947</td>\n",
       "      <td>0.820923</td>\n",
       "      <td>0.049860</td>\n",
       "      <td>unstable</td>\n",
       "    </tr>\n",
       "    <tr>\n",
       "      <th>5</th>\n",
       "      <td>6.999209</td>\n",
       "      <td>9.109247</td>\n",
       "      <td>3.784066</td>\n",
       "      <td>4.267788</td>\n",
       "      <td>4.429669</td>\n",
       "      <td>-1.857139</td>\n",
       "      <td>-0.670397</td>\n",
       "      <td>-1.902133</td>\n",
       "      <td>0.261793</td>\n",
       "      <td>0.077930</td>\n",
       "      <td>0.542884</td>\n",
       "      <td>0.469931</td>\n",
       "      <td>-0.017385</td>\n",
       "      <td>stable</td>\n",
       "    </tr>\n",
       "    <tr>\n",
       "      <th>6</th>\n",
       "      <td>6.710166</td>\n",
       "      <td>3.765204</td>\n",
       "      <td>6.929314</td>\n",
       "      <td>8.818562</td>\n",
       "      <td>2.397419</td>\n",
       "      <td>-0.614590</td>\n",
       "      <td>-1.208826</td>\n",
       "      <td>-0.574004</td>\n",
       "      <td>0.177890</td>\n",
       "      <td>0.397977</td>\n",
       "      <td>0.402046</td>\n",
       "      <td>0.376630</td>\n",
       "      <td>0.005954</td>\n",
       "      <td>unstable</td>\n",
       "    </tr>\n",
       "    <tr>\n",
       "      <th>7</th>\n",
       "      <td>6.953512</td>\n",
       "      <td>1.379125</td>\n",
       "      <td>5.719400</td>\n",
       "      <td>7.870307</td>\n",
       "      <td>3.224495</td>\n",
       "      <td>-0.748998</td>\n",
       "      <td>-1.186517</td>\n",
       "      <td>-1.288980</td>\n",
       "      <td>0.371385</td>\n",
       "      <td>0.633204</td>\n",
       "      <td>0.732741</td>\n",
       "      <td>0.380544</td>\n",
       "      <td>0.016634</td>\n",
       "      <td>unstable</td>\n",
       "    </tr>\n",
       "    <tr>\n",
       "      <th>8</th>\n",
       "      <td>4.689852</td>\n",
       "      <td>4.007747</td>\n",
       "      <td>1.478573</td>\n",
       "      <td>3.733787</td>\n",
       "      <td>4.041300</td>\n",
       "      <td>-1.410344</td>\n",
       "      <td>-1.238204</td>\n",
       "      <td>-1.392751</td>\n",
       "      <td>0.269708</td>\n",
       "      <td>0.250364</td>\n",
       "      <td>0.164941</td>\n",
       "      <td>0.482439</td>\n",
       "      <td>-0.038677</td>\n",
       "      <td>stable</td>\n",
       "    </tr>\n",
       "    <tr>\n",
       "      <th>9</th>\n",
       "      <td>9.841496</td>\n",
       "      <td>1.413822</td>\n",
       "      <td>9.769856</td>\n",
       "      <td>7.641616</td>\n",
       "      <td>4.727595</td>\n",
       "      <td>-1.991363</td>\n",
       "      <td>-0.857637</td>\n",
       "      <td>-1.878594</td>\n",
       "      <td>0.376356</td>\n",
       "      <td>0.544415</td>\n",
       "      <td>0.792039</td>\n",
       "      <td>0.116263</td>\n",
       "      <td>0.012383</td>\n",
       "      <td>unstable</td>\n",
       "    </tr>\n",
       "  </tbody>\n",
       "</table>\n",
       "</div>"
      ],
      "text/plain": [
       "       tau1      tau2      tau3      tau4        p1        p2        p3  \\\n",
       "0  2.959060  3.079885  8.381025  9.780754  3.763085 -0.782604 -1.257395   \n",
       "1  9.304097  4.902524  3.047541  1.369357  5.067812 -1.940058 -1.872742   \n",
       "2  8.971707  8.848428  3.046479  1.214518  3.405158 -1.207456 -1.277210   \n",
       "3  0.716415  7.669600  4.486641  2.340563  3.963791 -1.027473 -1.938944   \n",
       "4  3.134112  7.608772  4.943759  9.857573  3.525811 -1.125531 -1.845975   \n",
       "5  6.999209  9.109247  3.784066  4.267788  4.429669 -1.857139 -0.670397   \n",
       "6  6.710166  3.765204  6.929314  8.818562  2.397419 -0.614590 -1.208826   \n",
       "7  6.953512  1.379125  5.719400  7.870307  3.224495 -0.748998 -1.186517   \n",
       "8  4.689852  4.007747  1.478573  3.733787  4.041300 -1.410344 -1.238204   \n",
       "9  9.841496  1.413822  9.769856  7.641616  4.727595 -1.991363 -0.857637   \n",
       "\n",
       "         p4        g1        g2        g3        g4      stab     stabf  \n",
       "0 -1.723086  0.650456  0.859578  0.887445  0.958034  0.055347  unstable  \n",
       "1 -1.255012  0.413441  0.862414  0.562139  0.781760 -0.005957    stable  \n",
       "2 -0.920492  0.163041  0.766689  0.839444  0.109853  0.003471  unstable  \n",
       "3 -0.997374  0.446209  0.976744  0.929381  0.362718  0.028871  unstable  \n",
       "4 -0.554305  0.797110  0.455450  0.656947  0.820923  0.049860  unstable  \n",
       "5 -1.902133  0.261793  0.077930  0.542884  0.469931 -0.017385    stable  \n",
       "6 -0.574004  0.177890  0.397977  0.402046  0.376630  0.005954  unstable  \n",
       "7 -1.288980  0.371385  0.633204  0.732741  0.380544  0.016634  unstable  \n",
       "8 -1.392751  0.269708  0.250364  0.164941  0.482439 -0.038677    stable  \n",
       "9 -1.878594  0.376356  0.544415  0.792039  0.116263  0.012383  unstable  "
      ]
     },
     "execution_count": 5,
     "metadata": {},
     "output_type": "execute_result"
    }
   ],
   "source": [
    "df.head(10)"
   ]
  },
  {
   "cell_type": "code",
   "execution_count": 6,
   "id": "52d4b916",
   "metadata": {},
   "outputs": [],
   "source": [
    "#Converted the dataset to dataframe\n",
    "df = pd.DataFrame(df)"
   ]
  },
  {
   "cell_type": "code",
   "execution_count": 7,
   "id": "20d80f29",
   "metadata": {},
   "outputs": [],
   "source": [
    "#Dropped Stab column from the entire dataset\n",
    "main_df = df.drop(columns=['stab'])"
   ]
  },
  {
   "cell_type": "code",
   "execution_count": 8,
   "id": "33082c59",
   "metadata": {},
   "outputs": [],
   "source": [
    "#Got the predictive dataset to from the entire dataset \n",
    "predictive_data = main_df.drop(columns=['stabf'])"
   ]
  },
  {
   "cell_type": "code",
   "execution_count": 9,
   "id": "8c334beb",
   "metadata": {},
   "outputs": [],
   "source": [
    "#Got the dependent dataset to from the entire dataset \n",
    "Dependent_data = main_df['stabf']"
   ]
  },
  {
   "cell_type": "code",
   "execution_count": 10,
   "id": "8b8559bc",
   "metadata": {},
   "outputs": [
    {
     "data": {
      "text/html": [
       "<div>\n",
       "<style scoped>\n",
       "    .dataframe tbody tr th:only-of-type {\n",
       "        vertical-align: middle;\n",
       "    }\n",
       "\n",
       "    .dataframe tbody tr th {\n",
       "        vertical-align: top;\n",
       "    }\n",
       "\n",
       "    .dataframe thead th {\n",
       "        text-align: right;\n",
       "    }\n",
       "</style>\n",
       "<table border=\"1\" class=\"dataframe\">\n",
       "  <thead>\n",
       "    <tr style=\"text-align: right;\">\n",
       "      <th></th>\n",
       "      <th>tau1</th>\n",
       "      <th>tau2</th>\n",
       "      <th>tau3</th>\n",
       "      <th>tau4</th>\n",
       "      <th>p1</th>\n",
       "      <th>p2</th>\n",
       "      <th>p3</th>\n",
       "      <th>p4</th>\n",
       "      <th>g1</th>\n",
       "      <th>g2</th>\n",
       "      <th>g3</th>\n",
       "      <th>g4</th>\n",
       "    </tr>\n",
       "  </thead>\n",
       "  <tbody>\n",
       "    <tr>\n",
       "      <th>0</th>\n",
       "      <td>2.959060</td>\n",
       "      <td>3.079885</td>\n",
       "      <td>8.381025</td>\n",
       "      <td>9.780754</td>\n",
       "      <td>3.763085</td>\n",
       "      <td>-0.782604</td>\n",
       "      <td>-1.257395</td>\n",
       "      <td>-1.723086</td>\n",
       "      <td>0.650456</td>\n",
       "      <td>0.859578</td>\n",
       "      <td>0.887445</td>\n",
       "      <td>0.958034</td>\n",
       "    </tr>\n",
       "    <tr>\n",
       "      <th>1</th>\n",
       "      <td>9.304097</td>\n",
       "      <td>4.902524</td>\n",
       "      <td>3.047541</td>\n",
       "      <td>1.369357</td>\n",
       "      <td>5.067812</td>\n",
       "      <td>-1.940058</td>\n",
       "      <td>-1.872742</td>\n",
       "      <td>-1.255012</td>\n",
       "      <td>0.413441</td>\n",
       "      <td>0.862414</td>\n",
       "      <td>0.562139</td>\n",
       "      <td>0.781760</td>\n",
       "    </tr>\n",
       "    <tr>\n",
       "      <th>2</th>\n",
       "      <td>8.971707</td>\n",
       "      <td>8.848428</td>\n",
       "      <td>3.046479</td>\n",
       "      <td>1.214518</td>\n",
       "      <td>3.405158</td>\n",
       "      <td>-1.207456</td>\n",
       "      <td>-1.277210</td>\n",
       "      <td>-0.920492</td>\n",
       "      <td>0.163041</td>\n",
       "      <td>0.766689</td>\n",
       "      <td>0.839444</td>\n",
       "      <td>0.109853</td>\n",
       "    </tr>\n",
       "    <tr>\n",
       "      <th>3</th>\n",
       "      <td>0.716415</td>\n",
       "      <td>7.669600</td>\n",
       "      <td>4.486641</td>\n",
       "      <td>2.340563</td>\n",
       "      <td>3.963791</td>\n",
       "      <td>-1.027473</td>\n",
       "      <td>-1.938944</td>\n",
       "      <td>-0.997374</td>\n",
       "      <td>0.446209</td>\n",
       "      <td>0.976744</td>\n",
       "      <td>0.929381</td>\n",
       "      <td>0.362718</td>\n",
       "    </tr>\n",
       "    <tr>\n",
       "      <th>4</th>\n",
       "      <td>3.134112</td>\n",
       "      <td>7.608772</td>\n",
       "      <td>4.943759</td>\n",
       "      <td>9.857573</td>\n",
       "      <td>3.525811</td>\n",
       "      <td>-1.125531</td>\n",
       "      <td>-1.845975</td>\n",
       "      <td>-0.554305</td>\n",
       "      <td>0.797110</td>\n",
       "      <td>0.455450</td>\n",
       "      <td>0.656947</td>\n",
       "      <td>0.820923</td>\n",
       "    </tr>\n",
       "  </tbody>\n",
       "</table>\n",
       "</div>"
      ],
      "text/plain": [
       "       tau1      tau2      tau3      tau4        p1        p2        p3  \\\n",
       "0  2.959060  3.079885  8.381025  9.780754  3.763085 -0.782604 -1.257395   \n",
       "1  9.304097  4.902524  3.047541  1.369357  5.067812 -1.940058 -1.872742   \n",
       "2  8.971707  8.848428  3.046479  1.214518  3.405158 -1.207456 -1.277210   \n",
       "3  0.716415  7.669600  4.486641  2.340563  3.963791 -1.027473 -1.938944   \n",
       "4  3.134112  7.608772  4.943759  9.857573  3.525811 -1.125531 -1.845975   \n",
       "\n",
       "         p4        g1        g2        g3        g4  \n",
       "0 -1.723086  0.650456  0.859578  0.887445  0.958034  \n",
       "1 -1.255012  0.413441  0.862414  0.562139  0.781760  \n",
       "2 -0.920492  0.163041  0.766689  0.839444  0.109853  \n",
       "3 -0.997374  0.446209  0.976744  0.929381  0.362718  \n",
       "4 -0.554305  0.797110  0.455450  0.656947  0.820923  "
      ]
     },
     "execution_count": 10,
     "metadata": {},
     "output_type": "execute_result"
    }
   ],
   "source": [
    "predictive_data.head()"
   ]
  },
  {
   "cell_type": "code",
   "execution_count": 11,
   "id": "ee20023a",
   "metadata": {},
   "outputs": [
    {
     "data": {
      "text/plain": [
       "0    unstable\n",
       "1      stable\n",
       "2    unstable\n",
       "3    unstable\n",
       "4    unstable\n",
       "Name: stabf, dtype: object"
      ]
     },
     "execution_count": 11,
     "metadata": {},
     "output_type": "execute_result"
    }
   ],
   "source": [
    "Dependent_data.head()"
   ]
  },
  {
   "cell_type": "code",
   "execution_count": 12,
   "id": "c9c15fcb",
   "metadata": {},
   "outputs": [],
   "source": [
    "#The dataset was split here\n",
    "from sklearn.model_selection import train_test_split\n",
    "x_train, x_test, y_train, y_test = train_test_split(predictive_data, Dependent_data, test_size= 0.2, random_state= 1)"
   ]
  },
  {
   "cell_type": "code",
   "execution_count": 13,
   "id": "a50a0cdc",
   "metadata": {},
   "outputs": [],
   "source": [
    "#Label encode the categorical variable in both test and training set i.e the stable & unstable\n",
    "from sklearn.preprocessing import LabelEncoder\n",
    "encoder = LabelEncoder()\n",
    "y_train = encoder.fit_transform(y_train.values.ravel())\n",
    "y_test = encoder.transform(y_test.values.ravel())"
   ]
  },
  {
   "cell_type": "code",
   "execution_count": 14,
   "id": "e2de6ab0",
   "metadata": {},
   "outputs": [
    {
     "name": "stdout",
     "output_type": "stream",
     "text": [
      "(8000,)\n",
      "(2000,)\n"
     ]
    }
   ],
   "source": [
    "#checked the shape of the target variables\n",
    "print(y_train.shape)\n",
    "print(y_test.shape)"
   ]
  },
  {
   "cell_type": "code",
   "execution_count": 15,
   "id": "69e73da3",
   "metadata": {},
   "outputs": [],
   "source": [
    "#Applying standard scaler on the dataset\n",
    "from sklearn.preprocessing import StandardScaler\n",
    "sc = StandardScaler()\n",
    "x_train = sc.fit_transform(x_train)\n",
    "x_test = sc.transform(x_test)"
   ]
  },
  {
   "cell_type": "markdown",
   "id": "694add14",
   "metadata": {},
   "source": [
    "# Random Forest Model"
   ]
  },
  {
   "cell_type": "code",
   "execution_count": 16,
   "id": "5fcc372e",
   "metadata": {},
   "outputs": [
    {
     "data": {
      "text/plain": [
       "RandomForestClassifier(random_state=1)"
      ]
     },
     "execution_count": 16,
     "metadata": {},
     "output_type": "execute_result"
    }
   ],
   "source": [
    "#Random Forest model\n",
    "from sklearn.ensemble import RandomForestClassifier\n",
    "RF_Classifier = RandomForestClassifier(random_state = 1)\n",
    "RF_Classifier.fit(x_train, y_train)"
   ]
  },
  {
   "cell_type": "code",
   "execution_count": 17,
   "id": "8fd43367",
   "metadata": {},
   "outputs": [
    {
     "name": "stdout",
     "output_type": "stream",
     "text": [
      "Random Forest Classifier Accuracy: 0.9290\n"
     ]
    }
   ],
   "source": [
    "#Got the predicted values and checked the accuracy\n",
    "from sklearn.metrics import accuracy_score\n",
    "RF_y_prediction = RF_Classifier.predict(x_test)\n",
    "RF_accuracy = accuracy_score(y_test, RF_y_prediction)\n",
    "print( 'Random Forest Classifier Accuracy: {:.4f}' .format(RF_accuracy))"
   ]
  },
  {
   "cell_type": "markdown",
   "id": "9fd47ee6",
   "metadata": {},
   "source": [
    "# Extra Tree Classifier"
   ]
  },
  {
   "cell_type": "code",
   "execution_count": 67,
   "id": "776ddd08",
   "metadata": {},
   "outputs": [
    {
     "data": {
      "text/plain": [
       "ExtraTreesClassifier(random_state=1)"
      ]
     },
     "execution_count": 67,
     "metadata": {},
     "output_type": "execute_result"
    }
   ],
   "source": [
    "#Training the ExtraTree classifier\n",
    "from sklearn.ensemble import ExtraTreesClassifier\n",
    "ET_Classifier = ExtraTreesClassifier(random_state = 1)\n",
    "ET_Classifier.fit(x_train, y_train)"
   ]
  },
  {
   "cell_type": "code",
   "execution_count": 68,
   "id": "1194b6d0",
   "metadata": {},
   "outputs": [
    {
     "name": "stdout",
     "output_type": "stream",
     "text": [
      "ExtraTrees Classifier Accuracy: 0.9280\n"
     ]
    }
   ],
   "source": [
    "#Got the predicted values and checked the accuracy\n",
    "ET_y_prediction = ET_Classifier.predict(x_test)\n",
    "ET_accuracy = accuracy_score(y_test, ET_y_prediction)\n",
    "print( 'ExtraTrees Classifier Accuracy: {:.4f}' .format(ET_accuracy))"
   ]
  },
  {
   "cell_type": "markdown",
   "id": "8fc0a9ff",
   "metadata": {},
   "source": [
    "# XG Boosting Model"
   ]
  },
  {
   "cell_type": "code",
   "execution_count": 18,
   "id": "1c8a26f6",
   "metadata": {},
   "outputs": [
    {
     "name": "stderr",
     "output_type": "stream",
     "text": [
      "C:\\Users\\Feyi\\Anaconda3\\envs\\tf\\lib\\site-packages\\xgboost\\sklearn.py:1224: UserWarning: The use of label encoder in XGBClassifier is deprecated and will be removed in a future release. To remove this warning, do the following: 1) Pass option use_label_encoder=False when constructing XGBClassifier object; and 2) Encode your labels (y) as integers starting with 0, i.e. 0, 1, 2, ..., [num_class - 1].\n",
      "  warnings.warn(label_encoder_deprecation_msg, UserWarning)\n"
     ]
    },
    {
     "name": "stdout",
     "output_type": "stream",
     "text": [
      "[15:49:44] WARNING: D:\\bld\\xgboost-split_1645118015404\\work\\src\\learner.cc:1115: Starting in XGBoost 1.3.0, the default evaluation metric used with the objective 'binary:logistic' was changed from 'error' to 'logloss'. Explicitly set eval_metric if you'd like to restore the old behavior.\n"
     ]
    },
    {
     "data": {
      "text/plain": [
       "XGBClassifier(base_score=0.5, booster='gbtree', colsample_bylevel=1,\n",
       "              colsample_bynode=1, colsample_bytree=1, enable_categorical=False,\n",
       "              gamma=0, gpu_id=-1, importance_type=None,\n",
       "              interaction_constraints='', learning_rate=0.300000012,\n",
       "              max_delta_step=0, max_depth=6, min_child_weight=1, missing=nan,\n",
       "              monotone_constraints='()', n_estimators=100, n_jobs=4,\n",
       "              num_parallel_tree=1, predictor='auto', random_state=1,\n",
       "              reg_alpha=0, reg_lambda=1, scale_pos_weight=1, subsample=1,\n",
       "              tree_method='exact', validate_parameters=1, verbosity=None)"
      ]
     },
     "execution_count": 18,
     "metadata": {},
     "output_type": "execute_result"
    }
   ],
   "source": [
    "#The XG boosting classifier model\n",
    "from xgboost import XGBClassifier\n",
    "XgBoost_model = XGBClassifier(random_state = 1)\n",
    "XgBoost_model.fit(x_train, y_train)"
   ]
  },
  {
   "cell_type": "code",
   "execution_count": 19,
   "id": "7e6a82f9",
   "metadata": {},
   "outputs": [
    {
     "name": "stdout",
     "output_type": "stream",
     "text": [
      "XgBoost Model Accuracy: 0.9455\n"
     ]
    }
   ],
   "source": [
    "#Checked accuracy of the model\n",
    "XgBoost_y_prediction = XgBoost_model.predict(x_test)\n",
    "XG_accuracy = accuracy_score(y_test, XgBoost_y_prediction)\n",
    "print( 'XgBoost Model Accuracy: {:.4f}' .format(XG_accuracy))"
   ]
  },
  {
   "cell_type": "markdown",
   "id": "db3ae5ba",
   "metadata": {},
   "source": [
    "# Light gradient boosting model"
   ]
  },
  {
   "cell_type": "code",
   "execution_count": 20,
   "id": "57a49e19",
   "metadata": {},
   "outputs": [
    {
     "data": {
      "text/plain": [
       "LGBMClassifier(random_state=1)"
      ]
     },
     "execution_count": 20,
     "metadata": {},
     "output_type": "execute_result"
    }
   ],
   "source": [
    "#Light gradient boosting model\n",
    "from lightgbm import LGBMClassifier\n",
    "LGBM_model = LGBMClassifier(random_state = 1)\n",
    "LGBM_model.fit(x_train, y_train)"
   ]
  },
  {
   "cell_type": "code",
   "execution_count": 21,
   "id": "c2a41ef6",
   "metadata": {},
   "outputs": [
    {
     "name": "stdout",
     "output_type": "stream",
     "text": [
      "LGBM Model Accuracy: 0.9395\n"
     ]
    }
   ],
   "source": [
    "#Checked the Accuracy of the LGBM model\n",
    "LGBM_y_prediction = LGBM_model.predict(x_test)\n",
    "LGBM_accuracy = accuracy_score(y_test, LGBM_y_prediction)\n",
    "print( 'LGBM Model Accuracy: {:.4f}' .format(LGBM_accuracy))"
   ]
  },
  {
   "cell_type": "markdown",
   "id": "1541ec92",
   "metadata": {},
   "source": [
    "# Randomized Search on Extra tree Model"
   ]
  },
  {
   "cell_type": "code",
   "execution_count": 46,
   "id": "a4e3a225",
   "metadata": {},
   "outputs": [
    {
     "name": "stdout",
     "output_type": "stream",
     "text": [
      "Fitting 5 folds for each of 10 candidates, totalling 50 fits\n",
      "The best Accuracy: 92.2625 %\n",
      "The best Parameters:  {'n_estimators': 800, 'min_samples_split': 5, 'min_samples_leaf': 2, 'max_features': 'log2'}\n"
     ]
    }
   ],
   "source": [
    "#Applying Randomized Searchcv on Extra Tree Model\n",
    "from sklearn.model_selection import RandomizedSearchCV\n",
    "\n",
    "#New Extra Tree Model\n",
    "New_ETModel = ExtraTreesClassifier(random_state = 1)\n",
    "\n",
    "#Parameters to tune\n",
    "parameter_grid = {\n",
    "    'n_estimators': [int(x) for x in np.arange(start = 100, stop = 2100, step = 100)],\n",
    "    'min_samples_split': [2,4,5,6,7],\n",
    "    'min_samples_leaf': [2,4,6,8],\n",
    "    'max_features': ['auto','sqrt','log2', None],\n",
    "}\n",
    "\n",
    "RSearch_cv = RandomizedSearchCV(New_ETModel, param_distributions=parameter_grid,\n",
    "                               scoring=\"accuracy\", cv=5, n_iter=10, random_state=1, n_jobs=-1, verbose=1\n",
    ")\n",
    "\n",
    "RSearch_cv.fit(x_train, y_train)\n",
    "models_best_accuracy = RSearch_cv.best_score_\n",
    "models_best_parameters = RSearch_cv.best_params_\n",
    "print(\"The best Accuracy: {:.4f} \".format(models_best_accuracy*100))\n",
    "print(\"The best Parameters: \", models_best_parameters)"
   ]
  },
  {
   "cell_type": "code",
   "execution_count": 53,
   "id": "98282966",
   "metadata": {},
   "outputs": [
    {
     "data": {
      "text/plain": [
       "ExtraTreesClassifier(max_features='log2', min_samples_leaf=2,\n",
       "                     min_samples_split=5, n_estimators=800, random_state=1)"
      ]
     },
     "execution_count": 53,
     "metadata": {},
     "output_type": "execute_result"
    }
   ],
   "source": [
    "#Finding the features with the most and least importance\n",
    "optimized_ETModel = ExtraTreesClassifier(n_estimators= 800, min_samples_split= 5, \n",
    "                                         min_samples_leaf= 2, max_features= 'log2', random_state = 1)\n",
    "\n",
    "optimized_ETModel.fit(x_train, y_train)"
   ]
  },
  {
   "cell_type": "code",
   "execution_count": 61,
   "id": "deaaefad",
   "metadata": {},
   "outputs": [],
   "source": [
    "#Get Column name\n",
    "dataset_columns = df.columns"
   ]
  },
  {
   "cell_type": "code",
   "execution_count": 66,
   "id": "5685d435",
   "metadata": {},
   "outputs": [
    {
     "name": "stdout",
     "output_type": "stream",
     "text": [
      "Feature 0 - tau1, Score: 0.1274\n",
      "Feature 1 - tau2, Score: 0.1300\n",
      "Feature 2 - tau3, Score: 0.1230\n",
      "Feature 3 - tau4, Score: 0.1251\n",
      "Feature 4 - p1, Score: 0.0242\n",
      "Feature 5 - p2, Score: 0.0275\n",
      "Feature 6 - p3, Score: 0.0274\n",
      "Feature 7 - p4, Score: 0.0273\n",
      "Feature 8 - g1, Score: 0.0908\n",
      "Feature 9 - g2, Score: 0.0985\n",
      "Feature 10 - g3, Score: 0.1010\n",
      "Feature 11 - g4, Score: 0.0979\n"
     ]
    }
   ],
   "source": [
    "import matplotlib.pyplot as plt\n",
    "# Get feature importance \n",
    "importance = optimized_ETModel.feature_importances_\n",
    "# summarize feature importance\n",
    "for i,v in enumerate(importance):\n",
    "    print('Feature {} - {}, Score: {:.4f}' .format(i, dataset_columns[i], v))"
   ]
  },
  {
   "cell_type": "code",
   "execution_count": null,
   "id": "a5c451b0",
   "metadata": {},
   "outputs": [],
   "source": []
  }
 ],
 "metadata": {
  "kernelspec": {
   "display_name": "Python 3",
   "language": "python",
   "name": "python3"
  },
  "language_info": {
   "codemirror_mode": {
    "name": "ipython",
    "version": 3
   },
   "file_extension": ".py",
   "mimetype": "text/x-python",
   "name": "python",
   "nbconvert_exporter": "python",
   "pygments_lexer": "ipython3",
   "version": "3.7.10"
  }
 },
 "nbformat": 4,
 "nbformat_minor": 5
}
